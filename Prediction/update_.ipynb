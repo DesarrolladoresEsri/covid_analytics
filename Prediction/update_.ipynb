{
 "cells": [
  {
   "cell_type": "markdown",
   "metadata": {},
   "source": [
    "## Update features api rest library: requests\n"
   ]
  },
  {
   "cell_type": "markdown",
   "metadata": {},
   "source": [
    "#### imports"
   ]
  },
  {
   "cell_type": "code",
   "execution_count": 4,
   "metadata": {},
   "outputs": [],
   "source": [
    "import pandas as pd\n",
    "import numpy as np\n",
    "from datetime import datetime\n",
    "import math\n",
    "import dateparser\n",
    "import datetime\n",
    "import requests\n",
    "from arcgis.gis import GIS\n",
    "gis = GIS(\"home\")\n",
    "from arcgis.features import FeatureLayerCollection"
   ]
  },
  {
   "cell_type": "code",
   "execution_count": 2,
   "metadata": {},
   "outputs": [
    {
     "name": "stdout",
     "output_type": "stream",
     "text": [
      "Collecting dateparser\n",
      "\u001b[?25l  Downloading https://files.pythonhosted.org/packages/ad/0c/aba72d8454c28ab3800f3efd1ab3fe4f3fa41eb2746adc0cdcb318200796/dateparser-0.7.4-py2.py3-none-any.whl (353kB)\n",
      "\u001b[K     |████████████████████████████████| 358kB 9.9MB/s eta 0:00:01\n",
      "\u001b[?25hRequirement already satisfied: pytz in /opt/conda/lib/python3.6/site-packages (from dateparser) (2019.3)\n",
      "Collecting regex!=2019.02.19\n",
      "\u001b[?25l  Downloading https://files.pythonhosted.org/packages/ac/46/ba38a04bfe4db6177ea89cde0bb7814ae677eafab8e51335729c5387ecdd/regex-2020.4.4-cp36-cp36m-manylinux2010_x86_64.whl (679kB)\n",
      "\u001b[K     |████████████████████████████████| 686kB 39.0MB/s eta 0:00:01\n",
      "\u001b[?25hCollecting tzlocal\n",
      "  Downloading https://files.pythonhosted.org/packages/ef/99/53bd1ac9349262f59c1c421d8fcc2559ae8a5eeffed9202684756b648d33/tzlocal-2.0.0-py2.py3-none-any.whl\n",
      "Requirement already satisfied: python-dateutil in /opt/conda/lib/python3.6/site-packages (from dateparser) (2.8.1)\n",
      "Requirement already satisfied: six>=1.5 in /opt/conda/lib/python3.6/site-packages (from python-dateutil->dateparser) (1.13.0)\n",
      "Installing collected packages: regex, tzlocal, dateparser\n",
      "Successfully installed dateparser-0.7.4 regex-2020.4.4 tzlocal-2.0.0\n"
     ]
    }
   ],
   "source": [
    "!pip install dateparser"
   ]
  },
  {
   "cell_type": "markdown",
   "metadata": {},
   "source": [
    "## update"
   ]
  },
  {
   "cell_type": "code",
   "execution_count": 5,
   "metadata": {},
   "outputs": [
    {
     "name": "stderr",
     "output_type": "stream",
     "text": [
      "/opt/conda/lib/python3.6/site-packages/tzlocal/unix.py:158: UserWarning: Can not find any timezone configuration, defaulting to UTC.\n",
      "  warnings.warn('Can not find any timezone configuration, defaulting to UTC.')\n"
     ]
    },
    {
     "name": "stdout",
     "output_type": "stream",
     "text": [
      "b'{\"addResults\":[{\"objectId\":36145,\"uniqueId\":36145,\"globalId\":null,\"success\":true},{\"objectId\":36146,\"uniqueId\":36146,\"globalId\":null,\"success\":true},{\"objectId\":36147,\"uniqueId\":36147,\"globalId\":null,\"success\":true},{\"objectId\":36148,\"uniqueId\":36148,\"globalId\":null,\"success\":true},{\"objectId\":36149,\"uniqueId\":36149,\"globalId\":null,\"success\":true},{\"objectId\":36150,\"uniqueId\":36150,\"globalId\":null,\"success\":true},{\"objectId\":36151,\"uniqueId\":36151,\"globalId\":null,\"success\":true},{\"objectId\":36152,\"uniqueId\":36152,\"globalId\":null,\"success\":true},{\"objectId\":36153,\"uniqueId\":36153,\"globalId\":null,\"success\":true},{\"objectId\":36154,\"uniqueId\":36154,\"globalId\":null,\"success\":true},{\"objectId\":36155,\"uniqueId\":36155,\"globalId\":null,\"success\":true},{\"objectId\":36156,\"uniqueId\":36156,\"globalId\":null,\"success\":true},{\"objectId\":36157,\"uniqueId\":36157,\"globalId\":null,\"success\":true},{\"objectId\":36158,\"uniqueId\":36158,\"globalId\":null,\"success\":true},{\"objectId\":36159,\"uniqueId\":36159,\"globalId\":null,\"success\":true},{\"objectId\":36160,\"uniqueId\":36160,\"globalId\":null,\"success\":true},{\"objectId\":36161,\"uniqueId\":36161,\"globalId\":null,\"success\":true},{\"objectId\":36162,\"uniqueId\":36162,\"globalId\":null,\"success\":true},{\"objectId\":36163,\"uniqueId\":36163,\"globalId\":null,\"success\":true},{\"objectId\":36164,\"uniqueId\":36164,\"globalId\":null,\"success\":true},{\"objectId\":36165,\"uniqueId\":36165,\"globalId\":null,\"success\":true},{\"objectId\":36166,\"uniqueId\":36166,\"globalId\":null,\"success\":true},{\"objectId\":36167,\"uniqueId\":36167,\"globalId\":null,\"success\":true},{\"objectId\":36168,\"uniqueId\":36168,\"globalId\":null,\"success\":true},{\"objectId\":36169,\"uniqueId\":36169,\"globalId\":null,\"success\":true},{\"objectId\":36170,\"uniqueId\":36170,\"globalId\":null,\"success\":true},{\"objectId\":36171,\"uniqueId\":36171,\"globalId\":null,\"success\":true},{\"objectId\":36172,\"uniqueId\":36172,\"globalId\":null,\"success\":true},{\"objectId\":36173,\"uniqueId\":36173,\"globalId\":null,\"success\":true},{\"objectId\":36174,\"uniqueId\":36174,\"globalId\":null,\"success\":true},{\"objectId\":36175,\"uniqueId\":36175,\"globalId\":null,\"success\":true},{\"objectId\":36176,\"uniqueId\":36176,\"globalId\":null,\"success\":true},{\"objectId\":36177,\"uniqueId\":36177,\"globalId\":null,\"success\":true},{\"objectId\":36178,\"uniqueId\":36178,\"globalId\":null,\"success\":true},{\"objectId\":36179,\"uniqueId\":36179,\"globalId\":null,\"success\":true},{\"objectId\":36180,\"uniqueId\":36180,\"globalId\":null,\"success\":true},{\"objectId\":36181,\"uniqueId\":36181,\"globalId\":null,\"success\":true},{\"objectId\":36182,\"uniqueId\":36182,\"globalId\":null,\"success\":true},{\"objectId\":36183,\"uniqueId\":36183,\"globalId\":null,\"success\":true},{\"objectId\":36184,\"uniqueId\":36184,\"globalId\":null,\"success\":true},{\"objectId\":36185,\"uniqueId\":36185,\"globalId\":null,\"success\":true},{\"objectId\":36186,\"uniqueId\":36186,\"globalId\":null,\"success\":true},{\"objectId\":36187,\"uniqueId\":36187,\"globalId\":null,\"success\":true},{\"objectId\":36188,\"uniqueId\":36188,\"globalId\":null,\"success\":true},{\"objectId\":36189,\"uniqueId\":36189,\"globalId\":null,\"success\":true},{\"objectId\":36190,\"uniqueId\":36190,\"globalId\":null,\"success\":true},{\"objectId\":36191,\"uniqueId\":36191,\"globalId\":null,\"success\":true},{\"objectId\":36192,\"uniqueId\":36192,\"globalId\":null,\"success\":true},{\"objectId\":36193,\"uniqueId\":36193,\"globalId\":null,\"success\":true},{\"objectId\":36194,\"uniqueId\":36194,\"globalId\":null,\"success\":true},{\"objectId\":36195,\"uniqueId\":36195,\"globalId\":null,\"success\":true},{\"objectId\":36196,\"uniqueId\":36196,\"globalId\":null,\"success\":true},{\"objectId\":36197,\"uniqueId\":36197,\"globalId\":null,\"success\":true},{\"objectId\":36198,\"uniqueId\":36198,\"globalId\":null,\"success\":true},{\"objectId\":36199,\"uniqueId\":36199,\"globalId\":null,\"success\":true},{\"objectId\":36200,\"uniqueId\":36200,\"globalId\":null,\"success\":true},{\"objectId\":36201,\"uniqueId\":36201,\"globalId\":null,\"success\":true},{\"objectId\":36202,\"uniqueId\":36202,\"globalId\":null,\"success\":true},{\"objectId\":36203,\"uniqueId\":36203,\"globalId\":null,\"success\":true},{\"objectId\":36204,\"uniqueId\":36204,\"globalId\":null,\"success\":true},{\"objectId\":36205,\"uniqueId\":36205,\"globalId\":null,\"success\":true},{\"objectId\":36206,\"uniqueId\":36206,\"globalId\":null,\"success\":true},{\"objectId\":36207,\"uniqueId\":36207,\"globalId\":null,\"success\":true},{\"objectId\":36208,\"uniqueId\":36208,\"globalId\":null,\"success\":true},{\"objectId\":36209,\"uniqueId\":36209,\"globalId\":null,\"success\":true},{\"objectId\":36210,\"uniqueId\":36210,\"globalId\":null,\"success\":true},{\"objectId\":36211,\"uniqueId\":36211,\"globalId\":null,\"success\":true},{\"objectId\":36212,\"uniqueId\":36212,\"globalId\":null,\"success\":true},{\"objectId\":36213,\"uniqueId\":36213,\"globalId\":null,\"success\":true},{\"objectId\":36214,\"uniqueId\":36214,\"globalId\":null,\"success\":true},{\"objectId\":36215,\"uniqueId\":36215,\"globalId\":null,\"success\":true},{\"objectId\":36216,\"uniqueId\":36216,\"globalId\":null,\"success\":true},{\"objectId\":36217,\"uniqueId\":36217,\"globalId\":null,\"success\":true},{\"objectId\":36218,\"uniqueId\":36218,\"globalId\":null,\"success\":true},{\"objectId\":36219,\"uniqueId\":36219,\"globalId\":null,\"success\":true},{\"objectId\":36220,\"uniqueId\":36220,\"globalId\":null,\"success\":true},{\"objectId\":36221,\"uniqueId\":36221,\"globalId\":null,\"success\":true},{\"objectId\":36222,\"uniqueId\":36222,\"globalId\":null,\"success\":true},{\"objectId\":36223,\"uniqueId\":36223,\"globalId\":null,\"success\":true},{\"objectId\":36224,\"uniqueId\":36224,\"globalId\":null,\"success\":true},{\"objectId\":36225,\"uniqueId\":36225,\"globalId\":null,\"success\":true},{\"objectId\":36226,\"uniqueId\":36226,\"globalId\":null,\"success\":true},{\"objectId\":36227,\"uniqueId\":36227,\"globalId\":null,\"success\":true},{\"objectId\":36228,\"uniqueId\":36228,\"globalId\":null,\"success\":true},{\"objectId\":36229,\"uniqueId\":36229,\"globalId\":null,\"success\":true},{\"objectId\":36230,\"uniqueId\":36230,\"globalId\":null,\"success\":true},{\"objectId\":36231,\"uniqueId\":36231,\"globalId\":null,\"success\":true},{\"objectId\":36232,\"uniqueId\":36232,\"globalId\":null,\"success\":true},{\"objectId\":36233,\"uniqueId\":36233,\"globalId\":null,\"success\":true},{\"objectId\":36234,\"uniqueId\":36234,\"globalId\":null,\"success\":true},{\"objectId\":36235,\"uniqueId\":36235,\"globalId\":null,\"success\":true},{\"objectId\":36236,\"uniqueId\":36236,\"globalId\":null,\"success\":true},{\"objectId\":36237,\"uniqueId\":36237,\"globalId\":null,\"success\":true},{\"objectId\":36238,\"uniqueId\":36238,\"globalId\":null,\"success\":true},{\"objectId\":36239,\"uniqueId\":36239,\"globalId\":null,\"success\":true},{\"objectId\":36240,\"uniqueId\":36240,\"globalId\":null,\"success\":true},{\"objectId\":36241,\"uniqueId\":36241,\"globalId\":null,\"success\":true},{\"objectId\":36242,\"uniqueId\":36242,\"globalId\":null,\"success\":true},{\"objectId\":36243,\"uniqueId\":36243,\"globalId\":null,\"success\":true},{\"objectId\":36244,\"uniqueId\":36244,\"globalId\":null,\"success\":true},{\"objectId\":36245,\"uniqueId\":36245,\"globalId\":null,\"success\":true},{\"objectId\":36246,\"uniqueId\":36246,\"globalId\":null,\"success\":true},{\"objectId\":36247,\"uniqueId\":36247,\"globalId\":null,\"success\":true},{\"objectId\":36248,\"uniqueId\":36248,\"globalId\":null,\"success\":true},{\"objectId\":36249,\"uniqueId\":36249,\"globalId\":null,\"success\":true},{\"objectId\":36250,\"uniqueId\":36250,\"globalId\":null,\"success\":true},{\"objectId\":36251,\"uniqueId\":36251,\"globalId\":null,\"success\":true},{\"objectId\":36252,\"uniqueId\":36252,\"globalId\":null,\"success\":true},{\"objectId\":36253,\"uniqueId\":36253,\"globalId\":null,\"success\":true},{\"objectId\":36254,\"uniqueId\":36254,\"globalId\":null,\"success\":true},{\"objectId\":36255,\"uniqueId\":36255,\"globalId\":null,\"success\":true},{\"objectId\":36256,\"uniqueId\":36256,\"globalId\":null,\"success\":true},{\"objectId\":36257,\"uniqueId\":36257,\"globalId\":null,\"success\":true},{\"objectId\":36258,\"uniqueId\":36258,\"globalId\":null,\"success\":true},{\"objectId\":36259,\"uniqueId\":36259,\"globalId\":null,\"success\":true},{\"objectId\":36260,\"uniqueId\":36260,\"globalId\":null,\"success\":true},{\"objectId\":36261,\"uniqueId\":36261,\"globalId\":null,\"success\":true},{\"objectId\":36262,\"uniqueId\":36262,\"globalId\":null,\"success\":true},{\"objectId\":36263,\"uniqueId\":36263,\"globalId\":null,\"success\":true},{\"objectId\":36264,\"uniqueId\":36264,\"globalId\":null,\"success\":true},{\"objectId\":36265,\"uniqueId\":36265,\"globalId\":null,\"success\":true},{\"objectId\":36266,\"uniqueId\":36266,\"globalId\":null,\"success\":true},{\"objectId\":36267,\"uniqueId\":36267,\"globalId\":null,\"success\":true},{\"objectId\":36268,\"uniqueId\":36268,\"globalId\":null,\"success\":true},{\"objectId\":36269,\"uniqueId\":36269,\"globalId\":null,\"success\":true},{\"objectId\":36270,\"uniqueId\":36270,\"globalId\":null,\"success\":true},{\"objectId\":36271,\"uniqueId\":36271,\"globalId\":null,\"success\":true},{\"objectId\":36272,\"uniqueId\":36272,\"globalId\":null,\"success\":true},{\"objectId\":36273,\"uniqueId\":36273,\"globalId\":null,\"success\":true},{\"objectId\":36274,\"uniqueId\":36274,\"globalId\":null,\"success\":true},{\"objectId\":36275,\"uniqueId\":36275,\"globalId\":null,\"success\":true},{\"objectId\":36276,\"uniqueId\":36276,\"globalId\":null,\"success\":true},{\"objectId\":36277,\"uniqueId\":36277,\"globalId\":null,\"success\":true},{\"objectId\":36278,\"uniqueId\":36278,\"globalId\":null,\"success\":true},{\"objectId\":36279,\"uniqueId\":36279,\"globalId\":null,\"success\":true},{\"objectId\":36280,\"uniqueId\":36280,\"globalId\":null,\"success\":true},{\"objectId\":36281,\"uniqueId\":36281,\"globalId\":null,\"success\":true},{\"objectId\":36282,\"uniqueId\":36282,\"globalId\":null,\"success\":true},{\"objectId\":36283,\"uniqueId\":36283,\"globalId\":null,\"success\":true},{\"objectId\":36284,\"uniqueId\":36284,\"globalId\":null,\"success\":true},{\"objectId\":36285,\"uniqueId\":36285,\"globalId\":null,\"success\":true},{\"objectId\":36286,\"uniqueId\":36286,\"globalId\":null,\"success\":true},{\"objectId\":36287,\"uniqueId\":36287,\"globalId\":null,\"success\":true},{\"objectId\":36288,\"uniqueId\":36288,\"globalId\":null,\"success\":true},{\"objectId\":36289,\"uniqueId\":36289,\"globalId\":null,\"success\":true},{\"objectId\":36290,\"uniqueId\":36290,\"globalId\":null,\"success\":true},{\"objectId\":36291,\"uniqueId\":36291,\"globalId\":null,\"success\":true},{\"objectId\":36292,\"uniqueId\":36292,\"globalId\":null,\"success\":true},{\"objectId\":36293,\"uniqueId\":36293,\"globalId\":null,\"success\":true},{\"objectId\":36294,\"uniqueId\":36294,\"globalId\":null,\"success\":true},{\"objectId\":36295,\"uniqueId\":36295,\"globalId\":null,\"success\":true},{\"objectId\":36296,\"uniqueId\":36296,\"globalId\":null,\"success\":true},{\"objectId\":36297,\"uniqueId\":36297,\"globalId\":null,\"success\":true},{\"objectId\":36298,\"uniqueId\":36298,\"globalId\":null,\"success\":true},{\"objectId\":36299,\"uniqueId\":36299,\"globalId\":null,\"success\":true},{\"objectId\":36300,\"uniqueId\":36300,\"globalId\":null,\"success\":true},{\"objectId\":36301,\"uniqueId\":36301,\"globalId\":null,\"success\":true},{\"objectId\":36302,\"uniqueId\":36302,\"globalId\":null,\"success\":true},{\"objectId\":36303,\"uniqueId\":36303,\"globalId\":null,\"success\":true},{\"objectId\":36304,\"uniqueId\":36304,\"globalId\":null,\"success\":true},{\"objectId\":36305,\"uniqueId\":36305,\"globalId\":null,\"success\":true},{\"objectId\":36306,\"uniqueId\":36306,\"globalId\":null,\"success\":true},{\"objectId\":36307,\"uniqueId\":36307,\"globalId\":null,\"success\":true},{\"objectId\":36308,\"uniqueId\":36308,\"globalId\":null,\"success\":true},{\"objectId\":36309,\"uniqueId\":36309,\"globalId\":null,\"success\":true},{\"objectId\":36310,\"uniqueId\":36310,\"globalId\":null,\"success\":true},{\"objectId\":36311,\"uniqueId\":36311,\"globalId\":null,\"success\":true},{\"objectId\":36312,\"uniqueId\":36312,\"globalId\":null,\"success\":true},{\"objectId\":36313,\"uniqueId\":36313,\"globalId\":null,\"success\":true},{\"objectId\":36314,\"uniqueId\":36314,\"globalId\":null,\"success\":true},{\"objectId\":36315,\"uniqueId\":36315,\"globalId\":null,\"success\":true},{\"objectId\":36316,\"uniqueId\":36316,\"globalId\":null,\"success\":true},{\"objectId\":36317,\"uniqueId\":36317,\"globalId\":null,\"success\":true},{\"objectId\":36318,\"uniqueId\":36318,\"globalId\":null,\"success\":true},{\"objectId\":36319,\"uniqueId\":36319,\"globalId\":null,\"success\":true},{\"objectId\":36320,\"uniqueId\":36320,\"globalId\":null,\"success\":true},{\"objectId\":36321,\"uniqueId\":36321,\"globalId\":null,\"success\":true},{\"objectId\":36322,\"uniqueId\":36322,\"globalId\":null,\"success\":true},{\"objectId\":36323,\"uniqueId\":36323,\"globalId\":null,\"success\":true},{\"objectId\":36324,\"uniqueId\":36324,\"globalId\":null,\"success\":true},{\"objectId\":36325,\"uniqueId\":36325,\"globalId\":null,\"success\":true},{\"objectId\":36326,\"uniqueId\":36326,\"globalId\":null,\"success\":true},{\"objectId\":36327,\"uniqueId\":36327,\"globalId\":null,\"success\":true},{\"objectId\":36328,\"uniqueId\":36328,\"globalId\":null,\"success\":true},{\"objectId\":36329,\"uniqueId\":36329,\"globalId\":null,\"success\":true},{\"objectId\":36330,\"uniqueId\":36330,\"globalId\":null,\"success\":true},{\"objectId\":36331,\"uniqueId\":36331,\"globalId\":null,\"success\":true},{\"objectId\":36332,\"uniqueId\":36332,\"globalId\":null,\"success\":true},{\"objectId\":36333,\"uniqueId\":36333,\"globalId\":null,\"success\":true},{\"objectId\":36334,\"uniqueId\":36334,\"globalId\":null,\"success\":true},{\"objectId\":36335,\"uniqueId\":36335,\"globalId\":null,\"success\":true},{\"objectId\":36336,\"uniqueId\":36336,\"globalId\":null,\"success\":true},{\"objectId\":36337,\"uniqueId\":36337,\"globalId\":null,\"success\":true},{\"objectId\":36338,\"uniqueId\":36338,\"globalId\":null,\"success\":true},{\"objectId\":36339,\"uniqueId\":36339,\"globalId\":null,\"success\":true},{\"objectId\":36340,\"uniqueId\":36340,\"globalId\":null,\"success\":true},{\"objectId\":36341,\"uniqueId\":36341,\"globalId\":null,\"success\":true},{\"objectId\":36342,\"uniqueId\":36342,\"globalId\":null,\"success\":true},{\"objectId\":36343,\"uniqueId\":36343,\"globalId\":null,\"success\":true},{\"objectId\":36344,\"uniqueId\":36344,\"globalId\":null,\"success\":true},{\"objectId\":36345,\"uniqueId\":36345,\"globalId\":null,\"success\":true},{\"objectId\":36346,\"uniqueId\":36346,\"globalId\":null,\"success\":true},{\"objectId\":36347,\"uniqueId\":36347,\"globalId\":null,\"success\":true},{\"objectId\":36348,\"uniqueId\":36348,\"globalId\":null,\"success\":true},{\"objectId\":36349,\"uniqueId\":36349,\"globalId\":null,\"success\":true},{\"objectId\":36350,\"uniqueId\":36350,\"globalId\":null,\"success\":true},{\"objectId\":36351,\"uniqueId\":36351,\"globalId\":null,\"success\":true},{\"objectId\":36352,\"uniqueId\":36352,\"globalId\":null,\"success\":true},{\"objectId\":36353,\"uniqueId\":36353,\"globalId\":null,\"success\":true},{\"objectId\":36354,\"uniqueId\":36354,\"globalId\":null,\"success\":true},{\"objectId\":36355,\"uniqueId\":36355,\"globalId\":null,\"success\":true},{\"objectId\":36356,\"uniqueId\":36356,\"globalId\":null,\"success\":true},{\"objectId\":36357,\"uniqueId\":36357,\"globalId\":null,\"success\":true},{\"objectId\":36358,\"uniqueId\":36358,\"globalId\":null,\"success\":true},{\"objectId\":36359,\"uniqueId\":36359,\"globalId\":null,\"success\":true},{\"objectId\":36360,\"uniqueId\":36360,\"globalId\":null,\"success\":true},{\"objectId\":36361,\"uniqueId\":36361,\"globalId\":null,\"success\":true},{\"objectId\":36362,\"uniqueId\":36362,\"globalId\":null,\"success\":true},{\"objectId\":36363,\"uniqueId\":36363,\"globalId\":null,\"success\":true},{\"objectId\":36364,\"uniqueId\":36364,\"globalId\":null,\"success\":true},{\"objectId\":36365,\"uniqueId\":36365,\"globalId\":null,\"success\":true},{\"objectId\":36366,\"uniqueId\":36366,\"globalId\":null,\"success\":true},{\"objectId\":36367,\"uniqueId\":36367,\"globalId\":null,\"success\":true},{\"objectId\":36368,\"uniqueId\":36368,\"globalId\":null,\"success\":true},{\"objectId\":36369,\"uniqueId\":36369,\"globalId\":null,\"success\":true},{\"objectId\":36370,\"uniqueId\":36370,\"globalId\":null,\"success\":true},{\"objectId\":36371,\"uniqueId\":36371,\"globalId\":null,\"success\":true},{\"objectId\":36372,\"uniqueId\":36372,\"globalId\":null,\"success\":true},{\"objectId\":36373,\"uniqueId\":36373,\"globalId\":null,\"success\":true},{\"objectId\":36374,\"uniqueId\":36374,\"globalId\":null,\"success\":true},{\"objectId\":36375,\"uniqueId\":36375,\"globalId\":null,\"success\":true},{\"objectId\":36376,\"uniqueId\":36376,\"globalId\":null,\"success\":true},{\"objectId\":36377,\"uniqueId\":36377,\"globalId\":null,\"success\":true},{\"objectId\":36378,\"uniqueId\":36378,\"globalId\":null,\"success\":true},{\"objectId\":36379,\"uniqueId\":36379,\"globalId\":null,\"success\":true},{\"objectId\":36380,\"uniqueId\":36380,\"globalId\":null,\"success\":true},{\"objectId\":36381,\"uniqueId\":36381,\"globalId\":null,\"success\":true},{\"objectId\":36382,\"uniqueId\":36382,\"globalId\":null,\"success\":true},{\"objectId\":36383,\"uniqueId\":36383,\"globalId\":null,\"success\":true},{\"objectId\":36384,\"uniqueId\":36384,\"globalId\":null,\"success\":true},{\"objectId\":36385,\"uniqueId\":36385,\"globalId\":null,\"success\":true},{\"objectId\":36386,\"uniqueId\":36386,\"globalId\":null,\"success\":true},{\"objectId\":36387,\"uniqueId\":36387,\"globalId\":null,\"success\":true},{\"objectId\":36388,\"uniqueId\":36388,\"globalId\":null,\"success\":true},{\"objectId\":36389,\"uniqueId\":36389,\"globalId\":null,\"success\":true},{\"objectId\":36390,\"uniqueId\":36390,\"globalId\":null,\"success\":true},{\"objectId\":36391,\"uniqueId\":36391,\"globalId\":null,\"success\":true},{\"objectId\":36392,\"uniqueId\":36392,\"globalId\":null,\"success\":true},{\"objectId\":36393,\"uniqueId\":36393,\"globalId\":null,\"success\":true},{\"objectId\":36394,\"uniqueId\":36394,\"globalId\":null,\"success\":true},{\"objectId\":36395,\"uniqueId\":36395,\"globalId\":null,\"success\":true},{\"objectId\":36396,\"uniqueId\":36396,\"globalId\":null,\"success\":true},{\"objectId\":36397,\"uniqueId\":36397,\"globalId\":null,\"success\":true},{\"objectId\":36398,\"uniqueId\":36398,\"globalId\":null,\"success\":true},{\"objectId\":36399,\"uniqueId\":36399,\"globalId\":null,\"success\":true},{\"objectId\":36400,\"uniqueId\":36400,\"globalId\":null,\"success\":true},{\"objectId\":36401,\"uniqueId\":36401,\"globalId\":null,\"success\":true},{\"objectId\":36402,\"uniqueId\":36402,\"globalId\":null,\"success\":true},{\"objectId\":36403,\"uniqueId\":36403,\"globalId\":null,\"success\":true},{\"objectId\":36404,\"uniqueId\":36404,\"globalId\":null,\"success\":true},{\"objectId\":36405,\"uniqueId\":36405,\"globalId\":null,\"success\":true},{\"objectId\":36406,\"uniqueId\":36406,\"globalId\":null,\"success\":true},{\"objectId\":36407,\"uniqueId\":36407,\"globalId\":null,\"success\":true}],\"updateResults\":[],\"deleteResults\":[]}'\n"
     ]
    }
   ],
   "source": [
    "def pull_data():\n",
    "    dfo=pd.read_csv('https://raw.githubusercontent.com/CSSEGISandData/COVID-19/master/csse_covid_19_data/csse_covid_19_time_series/time_series_covid19_confirmed_global.csv')\n",
    "    df=dfo\n",
    "    df['Province/State'].fillna(value='',inplace=True)\n",
    "    df['site']=df['Country/Region']+'-'+df['Province/State']\n",
    "    #clean the countries with little data \n",
    "    df=df[df[list(df)[-2]]!=0]\n",
    "    df=df[df[list(df)[-3]]!=0]\n",
    "    df=df[df[list(df)[-4]]!=0]\n",
    "    def clean(name):\n",
    "        if name[-1]=='-':\n",
    "            name=name[:-1]\n",
    "        else:\n",
    "            name=name\n",
    "        return name\n",
    "    #clean site name to do the filters\n",
    "    df['site']=df['site'].apply(lambda x: clean(x))\n",
    "    sites=list(df['site'].unique())\n",
    "    #reshape the data to add a predicted feature in the next step\n",
    "    df0=df.groupby(['Country/Region','Province/State','site','Lat','Long']).sum().stack().reset_index()\n",
    "    df0.rename(columns={'level_5':'date',0:'accumulated'}, inplace=True)\n",
    "    df0['date']=df0['date'].apply(lambda x: dateparser.parse(x))#, date_formats=['%Y %d %B'], languages=['es']))\n",
    "    return sites,df0\n",
    "one_day=datetime.timedelta(days=1)\n",
    "yesterday=pd.Timestamp(datetime.date.today()-one_day)\n",
    "#prepare and calculate de status of the growth\n",
    "def prepare(df0,site):\n",
    "    df_data=df0[df0['site']==site]\n",
    "    df_data=df_data[df_data.accumulated!=0]\n",
    "    df_data['days']=np.arange(len(df_data.index))+1\n",
    "    df_data=df_data[['site','date','accumulated','days']]\n",
    "    y=np.array(df_data.accumulated)\n",
    "    df_data=df_data[df_data['date']>yesterday-one_day]\n",
    "    df_data['type']='data'\n",
    "    if y[-1]<=y[-2]:\n",
    "        df_data['growth']='Estabilizado'\n",
    "    else:\n",
    "        df_data['growth']='Incrementando'\n",
    "    return df_data\n",
    "# run prepare and convert the data to a json to do the request\n",
    "def preparejson(sites,df0):\n",
    "    add_df=pd.DataFrame()\n",
    "    for s in sites:\n",
    "        dfi=prepare(df0,s)\n",
    "        add_df=pd.concat([add_df, dfi])\n",
    "    add_df=add_df.reset_index().drop(columns='index')\n",
    "    fivehours=datetime.timedelta(hours=5)\n",
    "    add_df['date']=add_df['date']+fivehours\n",
    "    lista = [('{attributes:'+add_df.loc[x].to_json()+'}') for x in list(add_df.index)]\n",
    "    json0='['\n",
    "    for i in lista:\n",
    "        json0=json0+i+','\n",
    "    json0=json0[:-1]+']'\n",
    "    return json0\n",
    "#run all and do the post\n",
    "def update():\n",
    "    sites,df0=pull_data()\n",
    "    json0=preparejson(sites,df0)\n",
    "    item_forecast = gis.content.get(\"service_id\")\n",
    "    collection = FeatureLayerCollection.fromitem(item_forecast)\n",
    "    update_dict0 = {\"capabilities\": \"Create,Delete,Query,Update,Editing\"}\n",
    "    collection.manager.update_definition(update_dict0)   \n",
    "    url = \"feature_Service_url/0/applyEdits\"\n",
    "    payload = 'f=json&adds={}'.format(json0)\n",
    "    headers = {\n",
    "      'Content-Type': 'application/x-www-form-urlencoded'\n",
    "        }\n",
    "    response = requests.request(\"POST\", url, headers=headers, data = payload)\n",
    "    update_dict1 = {\"capabilities\": \"Query\"}\n",
    "    collection.manager.update_definition(update_dict1)\n",
    "    print(response.text.encode('utf8'))\n",
    "update()"
   ]
  }
 ],
 "metadata": {
  "esriNotebookRuntime": {
   "notebookRuntimeName": "ArcGIS Notebook Python 3 Advanced",
   "notebookRuntimeVersion": "3.0"
  },
  "kernelspec": {
   "display_name": "Python 3",
   "language": "python",
   "name": "python3"
  },
  "language_info": {
   "codemirror_mode": {
    "name": "ipython",
    "version": 3
   },
   "file_extension": ".py",
   "mimetype": "text/x-python",
   "name": "python",
   "nbconvert_exporter": "python",
   "pygments_lexer": "ipython3",
   "version": "3.7.6"
  }
 },
 "nbformat": 4,
 "nbformat_minor": 2
}
